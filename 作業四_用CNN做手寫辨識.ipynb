{
  "nbformat": 4,
  "nbformat_minor": 0,
  "metadata": {
    "kernelspec": {
      "display_name": "Python 3",
      "language": "python",
      "name": "python3"
    },
    "language_info": {
      "codemirror_mode": {
        "name": "ipython",
        "version": 3
      },
      "file_extension": ".py",
      "mimetype": "text/x-python",
      "name": "python",
      "nbconvert_exporter": "python",
      "pygments_lexer": "ipython3",
      "version": "3.7.3"
    },
    "colab": {
      "name": "CNN.ipynb",
      "provenance": []
    },
    "accelerator": "GPU",
    "widgets": {
      "application/vnd.jupyter.widget-state+json": {
        "19eaa33b13424298a3c7b5947f53594a": {
          "model_module": "@jupyter-widgets/controls",
          "model_name": "VBoxModel",
          "model_module_version": "1.5.0",
          "state": {
            "_view_name": "VBoxView",
            "_dom_classes": [
              "widget-interact"
            ],
            "_model_name": "VBoxModel",
            "_view_module": "@jupyter-widgets/controls",
            "_model_module_version": "1.5.0",
            "_view_count": null,
            "_view_module_version": "1.5.0",
            "box_style": "",
            "layout": "IPY_MODEL_7990521541f140be9fcbf5ec9b96e579",
            "_model_module": "@jupyter-widgets/controls",
            "children": [
              "IPY_MODEL_69edfa831e3f4e029cb96166bcbbc137",
              "IPY_MODEL_70cb867e0471439eaa2fca8aa3932e3a",
              "IPY_MODEL_61df92a110344606ace1e71d71e6ab0d"
            ]
          }
        },
        "7990521541f140be9fcbf5ec9b96e579": {
          "model_module": "@jupyter-widgets/base",
          "model_name": "LayoutModel",
          "model_module_version": "1.2.0",
          "state": {
            "_view_name": "LayoutView",
            "grid_template_rows": null,
            "right": null,
            "justify_content": null,
            "_view_module": "@jupyter-widgets/base",
            "overflow": null,
            "_model_module_version": "1.2.0",
            "_view_count": null,
            "flex_flow": null,
            "width": null,
            "min_width": null,
            "border": null,
            "align_items": null,
            "bottom": null,
            "_model_module": "@jupyter-widgets/base",
            "top": null,
            "grid_column": null,
            "overflow_y": null,
            "overflow_x": null,
            "grid_auto_flow": null,
            "grid_area": null,
            "grid_template_columns": null,
            "flex": null,
            "_model_name": "LayoutModel",
            "justify_items": null,
            "grid_row": null,
            "max_height": null,
            "align_content": null,
            "visibility": null,
            "align_self": null,
            "height": null,
            "min_height": null,
            "padding": null,
            "grid_auto_rows": null,
            "grid_gap": null,
            "max_width": null,
            "order": null,
            "_view_module_version": "1.2.0",
            "grid_template_areas": null,
            "object_position": null,
            "object_fit": null,
            "grid_auto_columns": null,
            "margin": null,
            "display": null,
            "left": null
          }
        },
        "69edfa831e3f4e029cb96166bcbbc137": {
          "model_module": "@jupyter-widgets/controls",
          "model_name": "IntSliderModel",
          "model_module_version": "1.5.0",
          "state": {
            "_view_name": "IntSliderView",
            "style": "IPY_MODEL_6480558772d2439db6ed812e676ee6cf",
            "_dom_classes": [],
            "description": "n",
            "step": 1,
            "_model_name": "IntSliderModel",
            "orientation": "horizontal",
            "max": 9999,
            "_view_module": "@jupyter-widgets/controls",
            "_model_module_version": "1.5.0",
            "value": 2684,
            "_view_count": null,
            "disabled": false,
            "_view_module_version": "1.5.0",
            "min": 0,
            "continuous_update": true,
            "readout_format": "d",
            "description_tooltip": null,
            "readout": true,
            "_model_module": "@jupyter-widgets/controls",
            "layout": "IPY_MODEL_8015fb291c5645b98717865347a1a065"
          }
        },
        "70cb867e0471439eaa2fca8aa3932e3a": {
          "model_module": "@jupyter-widgets/controls",
          "model_name": "ButtonModel",
          "model_module_version": "1.5.0",
          "state": {
            "_view_name": "ButtonView",
            "style": "IPY_MODEL_2fb02196d2e446afb65fe96c50fa6ffd",
            "_dom_classes": [],
            "description": "Run Interact",
            "_model_name": "ButtonModel",
            "button_style": "",
            "_view_module": "@jupyter-widgets/controls",
            "_model_module_version": "1.5.0",
            "tooltip": "",
            "_view_count": null,
            "disabled": false,
            "_view_module_version": "1.5.0",
            "layout": "IPY_MODEL_30283802694d482585ae45f37f8438c1",
            "_model_module": "@jupyter-widgets/controls",
            "icon": ""
          }
        },
        "61df92a110344606ace1e71d71e6ab0d": {
          "model_module": "@jupyter-widgets/output",
          "model_name": "OutputModel",
          "model_module_version": "1.0.0",
          "state": {
            "_view_name": "OutputView",
            "msg_id": "",
            "_dom_classes": [],
            "_model_name": "OutputModel",
            "outputs": [
              {
                "output_type": "stream",
                "name": "stdout",
                "text": [
                  "我可愛的 CNN 預測是 3\n"
                ]
              },
              {
                "output_type": "display_data",
                "data": {
                  "image/png": "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\n",
                  "text/plain": "<Figure size 432x288 with 1 Axes>"
                },
                "metadata": {
                  "needs_background": "light"
                }
              }
            ],
            "_view_module": "@jupyter-widgets/output",
            "_model_module_version": "1.0.0",
            "_view_count": null,
            "_view_module_version": "1.0.0",
            "layout": "IPY_MODEL_641859c8a2e64f1e9d9f8d2e28ab330e",
            "_model_module": "@jupyter-widgets/output"
          }
        },
        "6480558772d2439db6ed812e676ee6cf": {
          "model_module": "@jupyter-widgets/controls",
          "model_name": "SliderStyleModel",
          "model_module_version": "1.5.0",
          "state": {
            "_view_name": "StyleView",
            "handle_color": null,
            "_model_name": "SliderStyleModel",
            "description_width": "",
            "_view_module": "@jupyter-widgets/base",
            "_model_module_version": "1.5.0",
            "_view_count": null,
            "_view_module_version": "1.2.0",
            "_model_module": "@jupyter-widgets/controls"
          }
        },
        "8015fb291c5645b98717865347a1a065": {
          "model_module": "@jupyter-widgets/base",
          "model_name": "LayoutModel",
          "model_module_version": "1.2.0",
          "state": {
            "_view_name": "LayoutView",
            "grid_template_rows": null,
            "right": null,
            "justify_content": null,
            "_view_module": "@jupyter-widgets/base",
            "overflow": null,
            "_model_module_version": "1.2.0",
            "_view_count": null,
            "flex_flow": null,
            "width": null,
            "min_width": null,
            "border": null,
            "align_items": null,
            "bottom": null,
            "_model_module": "@jupyter-widgets/base",
            "top": null,
            "grid_column": null,
            "overflow_y": null,
            "overflow_x": null,
            "grid_auto_flow": null,
            "grid_area": null,
            "grid_template_columns": null,
            "flex": null,
            "_model_name": "LayoutModel",
            "justify_items": null,
            "grid_row": null,
            "max_height": null,
            "align_content": null,
            "visibility": null,
            "align_self": null,
            "height": null,
            "min_height": null,
            "padding": null,
            "grid_auto_rows": null,
            "grid_gap": null,
            "max_width": null,
            "order": null,
            "_view_module_version": "1.2.0",
            "grid_template_areas": null,
            "object_position": null,
            "object_fit": null,
            "grid_auto_columns": null,
            "margin": null,
            "display": null,
            "left": null
          }
        },
        "2fb02196d2e446afb65fe96c50fa6ffd": {
          "model_module": "@jupyter-widgets/controls",
          "model_name": "ButtonStyleModel",
          "model_module_version": "1.5.0",
          "state": {
            "_view_name": "StyleView",
            "_model_name": "ButtonStyleModel",
            "_view_module": "@jupyter-widgets/base",
            "_model_module_version": "1.5.0",
            "_view_count": null,
            "button_color": null,
            "font_weight": "",
            "_view_module_version": "1.2.0",
            "_model_module": "@jupyter-widgets/controls"
          }
        },
        "30283802694d482585ae45f37f8438c1": {
          "model_module": "@jupyter-widgets/base",
          "model_name": "LayoutModel",
          "model_module_version": "1.2.0",
          "state": {
            "_view_name": "LayoutView",
            "grid_template_rows": null,
            "right": null,
            "justify_content": null,
            "_view_module": "@jupyter-widgets/base",
            "overflow": null,
            "_model_module_version": "1.2.0",
            "_view_count": null,
            "flex_flow": null,
            "width": null,
            "min_width": null,
            "border": null,
            "align_items": null,
            "bottom": null,
            "_model_module": "@jupyter-widgets/base",
            "top": null,
            "grid_column": null,
            "overflow_y": null,
            "overflow_x": null,
            "grid_auto_flow": null,
            "grid_area": null,
            "grid_template_columns": null,
            "flex": null,
            "_model_name": "LayoutModel",
            "justify_items": null,
            "grid_row": null,
            "max_height": null,
            "align_content": null,
            "visibility": null,
            "align_self": null,
            "height": null,
            "min_height": null,
            "padding": null,
            "grid_auto_rows": null,
            "grid_gap": null,
            "max_width": null,
            "order": null,
            "_view_module_version": "1.2.0",
            "grid_template_areas": null,
            "object_position": null,
            "object_fit": null,
            "grid_auto_columns": null,
            "margin": null,
            "display": null,
            "left": null
          }
        },
        "641859c8a2e64f1e9d9f8d2e28ab330e": {
          "model_module": "@jupyter-widgets/base",
          "model_name": "LayoutModel",
          "model_module_version": "1.2.0",
          "state": {
            "_view_name": "LayoutView",
            "grid_template_rows": null,
            "right": null,
            "justify_content": null,
            "_view_module": "@jupyter-widgets/base",
            "overflow": null,
            "_model_module_version": "1.2.0",
            "_view_count": null,
            "flex_flow": null,
            "width": null,
            "min_width": null,
            "border": null,
            "align_items": null,
            "bottom": null,
            "_model_module": "@jupyter-widgets/base",
            "top": null,
            "grid_column": null,
            "overflow_y": null,
            "overflow_x": null,
            "grid_auto_flow": null,
            "grid_area": null,
            "grid_template_columns": null,
            "flex": null,
            "_model_name": "LayoutModel",
            "justify_items": null,
            "grid_row": null,
            "max_height": null,
            "align_content": null,
            "visibility": null,
            "align_self": null,
            "height": null,
            "min_height": null,
            "padding": null,
            "grid_auto_rows": null,
            "grid_gap": null,
            "max_width": null,
            "order": null,
            "_view_module_version": "1.2.0",
            "grid_template_areas": null,
            "object_position": null,
            "object_fit": null,
            "grid_auto_columns": null,
            "margin": null,
            "display": null,
            "left": null
          }
        }
      }
    }
  },
  "cells": [
    {
      "cell_type": "code",
      "metadata": {
        "id": "ZU34-i1j6Hml"
      },
      "source": [
        "%matplotlib inline\n",
        "\n",
        "import numpy as np\n",
        "import matplotlib.pyplot as plt\n",
        "import pandas as pd"
      ],
      "execution_count": null,
      "outputs": []
    },
    {
      "cell_type": "code",
      "metadata": {
        "id": "gySS_AvL6Hmq"
      },
      "source": [
        "from tensorflow.keras.utils import to_categorical\n",
        "from tensorflow.keras.models import Sequential\n",
        "from tensorflow.keras.layers import Conv2D, MaxPooling2D\n",
        "from tensorflow.keras.layers import Dense, Flatten\n",
        "from tensorflow.keras.optimizers import SGD"
      ],
      "execution_count": null,
      "outputs": []
    },
    {
      "cell_type": "markdown",
      "metadata": {
        "id": "zhBTG3HY6Hmr"
      },
      "source": [
        "### 1. 讀入 MNSIT 數據集"
      ]
    },
    {
      "cell_type": "code",
      "metadata": {
        "id": "wTISnqvn6Hmt"
      },
      "source": [
        "from tensorflow.keras.datasets import mnist"
      ],
      "execution_count": null,
      "outputs": []
    },
    {
      "cell_type": "code",
      "metadata": {
        "id": "pnaNA_Jb6Hmu"
      },
      "source": [
        "(x_train, y_train), (x_test, y_test) = mnist.load_data()"
      ],
      "execution_count": null,
      "outputs": []
    },
    {
      "cell_type": "markdown",
      "metadata": {
        "id": "3N3SzI1d6Hmu"
      },
      "source": [
        "### 2. 資料整理"
      ]
    },
    {
      "cell_type": "markdown",
      "metadata": {
        "id": "nAWOKzWL6Hmv"
      },
      "source": [
        "### Channel\n",
        "\n",
        "CNN 要注意一張圖有多少個 channel, 開始我們因為只有灰階, 所以只有一個 channel。因此我們要轉一下我們的資料格式:\n",
        "\n",
        "    (28,28) --> (28, 28, 1)"
      ]
    },
    {
      "cell_type": "code",
      "metadata": {
        "id": "33NluNvJ6Hmv"
      },
      "source": [
        "x_train = x_train.reshape(60000, 28, 28, 1) / 255"
      ],
      "execution_count": null,
      "outputs": []
    },
    {
      "cell_type": "code",
      "metadata": {
        "id": "_rf8KIxy6Hmw"
      },
      "source": [
        "x_test = x_test.reshape(10000, 28, 28, 1) / 255"
      ],
      "execution_count": null,
      "outputs": []
    },
    {
      "cell_type": "code",
      "metadata": {
        "id": "ZSYpdFdu6Hmw"
      },
      "source": [
        "y_train = to_categorical(y_train, 10)\n",
        "y_test = to_categorical(y_test, 10)"
      ],
      "execution_count": null,
      "outputs": []
    },
    {
      "cell_type": "markdown",
      "metadata": {
        "id": "g2FgBLR36Hmx"
      },
      "source": [
        "### 3. step 1: 打造函數學習機 (CNN)"
      ]
    },
    {
      "cell_type": "code",
      "metadata": {
        "id": "Eh_d5IDF6Hmx"
      },
      "source": [
        "#model = Sequential()"
      ],
      "execution_count": null,
      "outputs": []
    },
    {
      "cell_type": "code",
      "metadata": {
        "id": "2gIPeKLO6Hmx",
        "colab": {
          "base_uri": "https://localhost:8080/",
          "height": 35
        },
        "outputId": "0fee5bfe-7cdd-4a3b-96cd-608d73290e05"
      },
      "source": [
        "#(filter數目,(filter大小))\n",
        "\"\"\"\n",
        "model.add(Conv2D(16, (3,3), padding='same',\n",
        "                input_shape=(28,28,1),\n",
        "                activation='relu'))\n",
        "\"\"\""
      ],
      "execution_count": null,
      "outputs": [
        {
          "output_type": "execute_result",
          "data": {
            "application/vnd.google.colaboratory.intrinsic+json": {
              "type": "string"
            },
            "text/plain": [
              "\"\\nmodel.add(Conv2D(16, (3,3), padding='same',\\n                input_shape=(28,28,1),\\n                activation='relu'))\\n\""
            ]
          },
          "metadata": {},
          "execution_count": 31
        }
      ]
    },
    {
      "cell_type": "code",
      "metadata": {
        "id": "kj7M6VLJ6Hmy"
      },
      "source": [
        "#model.add(MaxPooling2D(pool_size=(2,2)))"
      ],
      "execution_count": null,
      "outputs": []
    },
    {
      "cell_type": "code",
      "metadata": {
        "id": "O96hYOn86Hmy",
        "colab": {
          "base_uri": "https://localhost:8080/",
          "height": 35
        },
        "outputId": "afb52bb5-1335-4d70-8fdc-78ae0a7168e6"
      },
      "source": [
        "\"\"\"\n",
        "model.add(Conv2D(32, (3,3), padding='same',\n",
        "                activation='relu'))\n",
        "\"\"\""
      ],
      "execution_count": null,
      "outputs": [
        {
          "output_type": "execute_result",
          "data": {
            "application/vnd.google.colaboratory.intrinsic+json": {
              "type": "string"
            },
            "text/plain": [
              "\"\\nmodel.add(Conv2D(32, (3,3), padding='same',\\n                activation='relu'))\\n\""
            ]
          },
          "metadata": {},
          "execution_count": 33
        }
      ]
    },
    {
      "cell_type": "code",
      "metadata": {
        "id": "IPxwaPBh6Hmy"
      },
      "source": [
        "#model.add(MaxPooling2D(pool_size=(2,2)))"
      ],
      "execution_count": null,
      "outputs": []
    },
    {
      "cell_type": "code",
      "metadata": {
        "id": "gJFoCzJS6Hmz",
        "colab": {
          "base_uri": "https://localhost:8080/",
          "height": 35
        },
        "outputId": "872db592-d954-4fc6-ec3e-e954bcf7f8f4"
      },
      "source": [
        "\"\"\"\n",
        "model.add(Conv2D(64, (3,3), padding='same',\n",
        "                activation='relu'))\n",
        "\"\"\""
      ],
      "execution_count": null,
      "outputs": [
        {
          "output_type": "execute_result",
          "data": {
            "application/vnd.google.colaboratory.intrinsic+json": {
              "type": "string"
            },
            "text/plain": [
              "\"\\nmodel.add(Conv2D(64, (3,3), padding='same',\\n                activation='relu'))\\n\""
            ]
          },
          "metadata": {},
          "execution_count": 35
        }
      ]
    },
    {
      "cell_type": "code",
      "metadata": {
        "id": "PCiYSKdn6Hmz"
      },
      "source": [
        "#model.add(MaxPooling2D(pool_size=(2,2)))"
      ],
      "execution_count": null,
      "outputs": []
    },
    {
      "cell_type": "code",
      "metadata": {
        "id": "kVnnW9CY6Hmz"
      },
      "source": [
        "##拉平\n",
        "#model.add(Flatten())"
      ],
      "execution_count": null,
      "outputs": []
    },
    {
      "cell_type": "code",
      "metadata": {
        "id": "DdBYBVFo6Hm0"
      },
      "source": [
        "#model.add(Dense(54, activation='relu'))"
      ],
      "execution_count": null,
      "outputs": []
    },
    {
      "cell_type": "code",
      "metadata": {
        "id": "NjrwMFxj6Hm0"
      },
      "source": [
        "#model.add(Dense(10, activation='softmax'))"
      ],
      "execution_count": null,
      "outputs": []
    },
    {
      "cell_type": "markdown",
      "metadata": {
        "id": "BibBIARw5NBS"
      },
      "source": [
        "# $\\color{orange}{\\text{修改後}}$\n",
        "* Conv2D和MaxPooling2D共8層\n",
        "* Conv2D各層數目依序改為32,64,128,256"
      ]
    },
    {
      "cell_type": "code",
      "metadata": {
        "id": "eePIO6aSyjrT"
      },
      "source": [
        "model = Sequential()\n",
        "\n",
        "model.add(Conv2D(32, (3,3), padding='same', input_shape=(28,28,1), activation='relu'))\n",
        "model.add(MaxPooling2D(pool_size=(2,2)))\n",
        "\n",
        "model.add(Conv2D(64, (3,3), padding='same', activation='relu'))\n",
        "model.add(MaxPooling2D(pool_size=(2,2)))\n",
        "\n",
        "model.add(Conv2D(128, (3,3), padding='same', activation='relu'))\n",
        "model.add(MaxPooling2D(pool_size=(2,2)))\n",
        "\n",
        "model.add(Conv2D(256, (3,3), padding='same', activation='relu'))\n",
        "model.add(MaxPooling2D(pool_size=(2,2)))\n",
        "\n",
        "\n",
        "model.add(Flatten())\n",
        "model.add(Dense(128, activation='relu'))\n",
        "model.add(Dense(10, activation='softmax'))\n",
        "\n"
      ],
      "execution_count": null,
      "outputs": []
    },
    {
      "cell_type": "markdown",
      "metadata": {
        "id": "iJYFd1W56Hm0"
      },
      "source": [
        "#### 看一下我們的神經網路"
      ]
    },
    {
      "cell_type": "code",
      "metadata": {
        "id": "2dlDKPYe6Hm0",
        "colab": {
          "base_uri": "https://localhost:8080/"
        },
        "outputId": "7fa13566-d298-4cdf-ca4d-9e27815a9869"
      },
      "source": [
        "model.summary()"
      ],
      "execution_count": null,
      "outputs": [
        {
          "output_type": "stream",
          "name": "stdout",
          "text": [
            "Model: \"sequential_6\"\n",
            "_________________________________________________________________\n",
            "Layer (type)                 Output Shape              Param #   \n",
            "=================================================================\n",
            "conv2d_24 (Conv2D)           (None, 28, 28, 32)        320       \n",
            "_________________________________________________________________\n",
            "max_pooling2d_24 (MaxPooling (None, 14, 14, 32)        0         \n",
            "_________________________________________________________________\n",
            "conv2d_25 (Conv2D)           (None, 14, 14, 64)        18496     \n",
            "_________________________________________________________________\n",
            "max_pooling2d_25 (MaxPooling (None, 7, 7, 64)          0         \n",
            "_________________________________________________________________\n",
            "conv2d_26 (Conv2D)           (None, 7, 7, 128)         73856     \n",
            "_________________________________________________________________\n",
            "max_pooling2d_26 (MaxPooling (None, 3, 3, 128)         0         \n",
            "_________________________________________________________________\n",
            "conv2d_27 (Conv2D)           (None, 3, 3, 256)         295168    \n",
            "_________________________________________________________________\n",
            "max_pooling2d_27 (MaxPooling (None, 1, 1, 256)         0         \n",
            "_________________________________________________________________\n",
            "flatten_6 (Flatten)          (None, 256)               0         \n",
            "_________________________________________________________________\n",
            "dense_12 (Dense)             (None, 128)               32896     \n",
            "_________________________________________________________________\n",
            "dense_13 (Dense)             (None, 10)                1290      \n",
            "=================================================================\n",
            "Total params: 422,026\n",
            "Trainable params: 422,026\n",
            "Non-trainable params: 0\n",
            "_________________________________________________________________\n"
          ]
        }
      ]
    },
    {
      "cell_type": "markdown",
      "metadata": {
        "id": "Gyl85TwF6Hm1"
      },
      "source": [
        "#### 組裝"
      ]
    },
    {
      "cell_type": "code",
      "metadata": {
        "id": "_zK9j-2C6Hm2",
        "colab": {
          "base_uri": "https://localhost:8080/",
          "height": 35
        },
        "outputId": "7bb79ac0-398d-41f6-a8b6-fd7032a2ee07"
      },
      "source": [
        "\"\"\"\n",
        "model.compile(loss='mse', optimizer=SGD(lr=0.087),\n",
        "             metrics=['accuracy'])\n",
        "\"\"\""
      ],
      "execution_count": null,
      "outputs": [
        {
          "output_type": "execute_result",
          "data": {
            "application/vnd.google.colaboratory.intrinsic+json": {
              "type": "string"
            },
            "text/plain": [
              "\"\\nmodel.compile(loss='mse', optimizer=SGD(lr=0.087),\\n             metrics=['accuracy'])\\n\""
            ]
          },
          "metadata": {},
          "execution_count": 71
        }
      ]
    },
    {
      "cell_type": "markdown",
      "metadata": {
        "id": "YpRdST0A6KX6"
      },
      "source": [
        "># $\\color{orange}{\\text{修改後}}$\n",
        "* lr改為0.9\n"
      ]
    },
    {
      "cell_type": "code",
      "metadata": {
        "colab": {
          "base_uri": "https://localhost:8080/"
        },
        "id": "irJMvCGK4wd_",
        "outputId": "3988487d-eb92-49a9-f1bf-474d5fe29543"
      },
      "source": [
        "model.compile(loss='mse', optimizer=SGD(lr=0.09), metrics=['accuracy'])"
      ],
      "execution_count": null,
      "outputs": [
        {
          "output_type": "stream",
          "name": "stderr",
          "text": [
            "/usr/local/lib/python3.7/dist-packages/keras/optimizer_v2/optimizer_v2.py:356: UserWarning: The `lr` argument is deprecated, use `learning_rate` instead.\n",
            "  \"The `lr` argument is deprecated, use `learning_rate` instead.\")\n"
          ]
        }
      ]
    },
    {
      "cell_type": "markdown",
      "metadata": {
        "id": "ssVbDmN86Hm2"
      },
      "source": [
        "### 4. step 2: fit"
      ]
    },
    {
      "cell_type": "code",
      "metadata": {
        "id": "jGhsh5vy6bJY"
      },
      "source": [
        "#model.fit(x_train, y_train, batch_size=128, epochs=12)"
      ],
      "execution_count": null,
      "outputs": []
    },
    {
      "cell_type": "markdown",
      "metadata": {
        "id": "TQGsWIIo6fC8"
      },
      "source": [
        "># $\\color{orange}{\\text{修改後}}$\n",
        "* batch_size改為200\n",
        "* epoches改為20"
      ]
    },
    {
      "cell_type": "code",
      "metadata": {
        "scrolled": true,
        "id": "OskbXwGU6Hm2",
        "colab": {
          "base_uri": "https://localhost:8080/"
        },
        "outputId": "9280793b-17d3-4c7b-9abf-95ad93e80499"
      },
      "source": [
        "model.fit(x_train, y_train, batch_size=200, epochs=20)"
      ],
      "execution_count": null,
      "outputs": [
        {
          "output_type": "stream",
          "name": "stdout",
          "text": [
            "Epoch 1/20\n",
            "300/300 [==============================] - 6s 20ms/step - loss: 0.0899 - accuracy: 0.1063\n",
            "Epoch 2/20\n",
            "300/300 [==============================] - 6s 19ms/step - loss: 0.0896 - accuracy: 0.2392\n",
            "Epoch 3/20\n",
            "300/300 [==============================] - 6s 19ms/step - loss: 0.0893 - accuracy: 0.3878\n",
            "Epoch 4/20\n",
            "300/300 [==============================] - 6s 19ms/step - loss: 0.0888 - accuracy: 0.4805\n",
            "Epoch 5/20\n",
            "300/300 [==============================] - 6s 19ms/step - loss: 0.0876 - accuracy: 0.5166\n",
            "Epoch 6/20\n",
            "300/300 [==============================] - 6s 19ms/step - loss: 0.0831 - accuracy: 0.4684\n",
            "Epoch 7/20\n",
            "300/300 [==============================] - 6s 19ms/step - loss: 0.0559 - accuracy: 0.6602\n",
            "Epoch 8/20\n",
            "300/300 [==============================] - 6s 19ms/step - loss: 0.0273 - accuracy: 0.8291\n",
            "Epoch 9/20\n",
            "300/300 [==============================] - 6s 19ms/step - loss: 0.0182 - accuracy: 0.8819\n",
            "Epoch 10/20\n",
            "300/300 [==============================] - 6s 19ms/step - loss: 0.0136 - accuracy: 0.9132\n",
            "Epoch 11/20\n",
            "300/300 [==============================] - 6s 19ms/step - loss: 0.0113 - accuracy: 0.9281\n",
            "Epoch 12/20\n",
            "300/300 [==============================] - 6s 19ms/step - loss: 0.0097 - accuracy: 0.9377\n",
            "Epoch 13/20\n",
            "300/300 [==============================] - 6s 19ms/step - loss: 0.0085 - accuracy: 0.9459\n",
            "Epoch 14/20\n",
            "300/300 [==============================] - 6s 19ms/step - loss: 0.0077 - accuracy: 0.9511\n",
            "Epoch 15/20\n",
            "300/300 [==============================] - 6s 19ms/step - loss: 0.0071 - accuracy: 0.9552\n",
            "Epoch 16/20\n",
            "300/300 [==============================] - 6s 19ms/step - loss: 0.0064 - accuracy: 0.9597\n",
            "Epoch 17/20\n",
            "300/300 [==============================] - 6s 19ms/step - loss: 0.0061 - accuracy: 0.9615\n",
            "Epoch 18/20\n",
            "300/300 [==============================] - 6s 19ms/step - loss: 0.0056 - accuracy: 0.9650\n",
            "Epoch 19/20\n",
            "300/300 [==============================] - 6s 19ms/step - loss: 0.0054 - accuracy: 0.9661\n",
            "Epoch 20/20\n",
            "300/300 [==============================] - 6s 19ms/step - loss: 0.0051 - accuracy: 0.9686\n"
          ]
        },
        {
          "output_type": "execute_result",
          "data": {
            "text/plain": [
              "<keras.callbacks.History at 0x7fb263c51d50>"
            ]
          },
          "metadata": {},
          "execution_count": 77
        }
      ]
    },
    {
      "cell_type": "markdown",
      "metadata": {
        "id": "Iu2iE0TB6Hm2"
      },
      "source": [
        "### Step 3. 預測"
      ]
    },
    {
      "cell_type": "code",
      "metadata": {
        "id": "xEIFxrhM6Hm3"
      },
      "source": [
        "result = np.argmax(model.predict(x_test), axis=-1)"
      ],
      "execution_count": null,
      "outputs": []
    },
    {
      "cell_type": "markdown",
      "metadata": {
        "id": "zsm8_It66Hm3"
      },
      "source": [
        "### 看看測試資料表現如何"
      ]
    },
    {
      "cell_type": "code",
      "metadata": {
        "id": "IeYhOUZs6Hm3",
        "colab": {
          "base_uri": "https://localhost:8080/"
        },
        "outputId": "8d677565-5af6-4d42-8a74-41660d47284e"
      },
      "source": [
        "loss, acc = model.evaluate(x_test, y_test)"
      ],
      "execution_count": null,
      "outputs": [
        {
          "output_type": "stream",
          "name": "stdout",
          "text": [
            "313/313 [==============================] - 1s 4ms/step - loss: 0.0051 - accuracy: 0.9671\n"
          ]
        }
      ]
    },
    {
      "cell_type": "code",
      "metadata": {
        "id": "3mdC-Qv86Hm3",
        "colab": {
          "base_uri": "https://localhost:8080/"
        },
        "outputId": "f77515f0-3c59-4290-b21d-ba2965aac9d0"
      },
      "source": [
        "print(f'測試資料的正確率為 {acc*100:.2f}%')"
      ],
      "execution_count": null,
      "outputs": [
        {
          "output_type": "stream",
          "name": "stdout",
          "text": [
            "測試資料的正確率為 96.71%\n"
          ]
        }
      ]
    },
    {
      "cell_type": "code",
      "metadata": {
        "id": "WWNv1-vD6Hm4"
      },
      "source": [
        "def my_predict(n):\n",
        "    print('我可愛的 CNN 預測是', result[n])\n",
        "    X = x_test[n].reshape(28,28)\n",
        "    plt.imshow(X, cmap='Greys')"
      ],
      "execution_count": null,
      "outputs": []
    },
    {
      "cell_type": "code",
      "metadata": {
        "id": "XhiNPw9h6Hm4"
      },
      "source": [
        "from ipywidgets import interact_manual"
      ],
      "execution_count": null,
      "outputs": []
    },
    {
      "cell_type": "code",
      "metadata": {
        "id": "8Rp3Ha436Hm4",
        "colab": {
          "base_uri": "https://localhost:8080/",
          "height": 346,
          "referenced_widgets": [
            "19eaa33b13424298a3c7b5947f53594a",
            "7990521541f140be9fcbf5ec9b96e579",
            "69edfa831e3f4e029cb96166bcbbc137",
            "70cb867e0471439eaa2fca8aa3932e3a",
            "61df92a110344606ace1e71d71e6ab0d",
            "6480558772d2439db6ed812e676ee6cf",
            "8015fb291c5645b98717865347a1a065",
            "2fb02196d2e446afb65fe96c50fa6ffd",
            "30283802694d482585ae45f37f8438c1",
            "641859c8a2e64f1e9d9f8d2e28ab330e"
          ]
        },
        "outputId": "1a6efbed-0593-4fdb-ada8-c5a22c35a072"
      },
      "source": [
        "interact_manual(my_predict, n=(0, 9999));"
      ],
      "execution_count": null,
      "outputs": [
        {
          "output_type": "display_data",
          "data": {
            "application/vnd.jupyter.widget-view+json": {
              "model_id": "19eaa33b13424298a3c7b5947f53594a",
              "version_minor": 0,
              "version_major": 2
            },
            "text/plain": [
              "interactive(children=(IntSlider(value=4999, description='n', max=9999), Button(description='Run Interact', sty…"
            ]
          },
          "metadata": {}
        }
      ]
    },
    {
      "cell_type": "markdown",
      "metadata": {
        "id": "-rv8x4w26Hm5"
      },
      "source": [
        "### 把我們的 model 存起來"
      ]
    },
    {
      "cell_type": "code",
      "metadata": {
        "id": "o2C3Rn_46Hm5"
      },
      "source": [
        "model.save('myCNNmodel.h5')"
      ],
      "execution_count": null,
      "outputs": []
    }
  ]
}