{
  "nbformat": 4,
  "nbformat_minor": 0,
  "metadata": {
    "kernelspec": {
      "display_name": "Python 3",
      "language": "python",
      "name": "python3"
    },
    "language_info": {
      "codemirror_mode": {
        "name": "ipython",
        "version": 3
      },
      "file_extension": ".py",
      "mimetype": "text/x-python",
      "name": "python",
      "nbconvert_exporter": "python",
      "pygments_lexer": "ipython3",
      "version": "3.7.3"
    },
    "colab": {
      "name": "作業五_陳思妤.ipynb",
      "provenance": []
    }
  },
  "cells": [
    {
      "cell_type": "code",
      "metadata": {
        "id": "WyQXEhUWpNoc"
      },
      "source": [
        "%matplotlib inline\n",
        "\n",
        "import numpy as np\n",
        "import matplotlib.pyplot as plt\n",
        "import pandas as pd"
      ],
      "execution_count": null,
      "outputs": []
    },
    {
      "cell_type": "markdown",
      "metadata": {
        "id": "vpbrJu4VpNoe"
      },
      "source": [
        "### 1. 讀入深度學習套件"
      ]
    },
    {
      "cell_type": "code",
      "metadata": {
        "id": "FymGX24epNop"
      },
      "source": [
        "from tensorflow.keras.preprocessing import sequence\n",
        "from tensorflow.keras.models import Sequential\n",
        "from tensorflow.keras.layers import Dense, Embedding\n",
        "from tensorflow.keras.layers import LSTM\n",
        "from tensorflow.keras.datasets import imdb"
      ],
      "execution_count": null,
      "outputs": []
    },
    {
      "cell_type": "markdown",
      "metadata": {
        "id": "hepybs6NpNor"
      },
      "source": [
        "### 2. 讀入數據"
      ]
    },
    {
      "cell_type": "code",
      "metadata": {
        "id": "STUHUrHzpNos"
      },
      "source": [
        "(x_train, y_train), (x_test, y_test) = imdb.load_data(num_words=10000)"
      ],
      "execution_count": null,
      "outputs": []
    },
    {
      "cell_type": "code",
      "metadata": {
        "id": "h5N4tAUXpNos",
        "colab": {
          "base_uri": "https://localhost:8080/"
        },
        "outputId": "30342ebb-022b-447d-ab0c-528ac0aab8ee"
      },
      "source": [
        "len(x_train)"
      ],
      "execution_count": null,
      "outputs": [
        {
          "output_type": "execute_result",
          "data": {
            "text/plain": [
              "25000"
            ]
          },
          "metadata": {},
          "execution_count": 43
        }
      ]
    },
    {
      "cell_type": "code",
      "metadata": {
        "id": "0XSI-Zg3pNou",
        "colab": {
          "base_uri": "https://localhost:8080/"
        },
        "outputId": "c71b8c2e-b836-47f3-aafc-4b74b7531526"
      },
      "source": [
        "len(x_test)"
      ],
      "execution_count": null,
      "outputs": [
        {
          "output_type": "execute_result",
          "data": {
            "text/plain": [
              "25000"
            ]
          },
          "metadata": {},
          "execution_count": 44
        }
      ]
    },
    {
      "cell_type": "code",
      "metadata": {
        "id": "xWiXsO5lpNou",
        "colab": {
          "base_uri": "https://localhost:8080/"
        },
        "outputId": "230f25e8-5abf-409d-abed-e11582559c1e"
      },
      "source": [
        "len(x_train[0])"
      ],
      "execution_count": null,
      "outputs": [
        {
          "output_type": "execute_result",
          "data": {
            "text/plain": [
              "218"
            ]
          },
          "metadata": {},
          "execution_count": 45
        }
      ]
    },
    {
      "cell_type": "code",
      "metadata": {
        "id": "yHg-0lmKpNov",
        "colab": {
          "base_uri": "https://localhost:8080/"
        },
        "outputId": "38eb998a-f634-48ca-f4de-1487caeeb95a"
      },
      "source": [
        "len(x_train[1])"
      ],
      "execution_count": null,
      "outputs": [
        {
          "output_type": "execute_result",
          "data": {
            "text/plain": [
              "189"
            ]
          },
          "metadata": {},
          "execution_count": 46
        }
      ]
    },
    {
      "cell_type": "code",
      "metadata": {
        "id": "tbubLMurpNow",
        "colab": {
          "base_uri": "https://localhost:8080/"
        },
        "outputId": "3ddce059-cfdf-4530-9573-faf50a7c543f"
      },
      "source": [
        "y_train[0]"
      ],
      "execution_count": null,
      "outputs": [
        {
          "output_type": "execute_result",
          "data": {
            "text/plain": [
              "1"
            ]
          },
          "metadata": {},
          "execution_count": 47
        }
      ]
    },
    {
      "cell_type": "code",
      "metadata": {
        "id": "jq1CjJIbpNow",
        "colab": {
          "base_uri": "https://localhost:8080/"
        },
        "outputId": "ce01aaeb-e0fa-49b4-91fa-78342ea4dc0e"
      },
      "source": [
        "y_train[1]"
      ],
      "execution_count": null,
      "outputs": [
        {
          "output_type": "execute_result",
          "data": {
            "text/plain": [
              "0"
            ]
          },
          "metadata": {},
          "execution_count": 48
        }
      ]
    },
    {
      "cell_type": "markdown",
      "metadata": {
        "id": "sEzZn57FpNox"
      },
      "source": [
        "### 3. 資料處理"
      ]
    },
    {
      "cell_type": "code",
      "metadata": {
        "id": "fPOfnyRvpNox"
      },
      "source": [
        "#x_train = sequence.pad_sequences(x_train, maxlen=100)\n",
        "#x_test = sequence.pad_sequences(x_test, maxlen=100)"
      ],
      "execution_count": null,
      "outputs": []
    },
    {
      "cell_type": "markdown",
      "metadata": {
        "id": "zR82lu2XpWzK"
      },
      "source": [
        "# $\\color{orange}{\\text{修改後}}$\n",
        "* maxlen改為300"
      ]
    },
    {
      "cell_type": "code",
      "metadata": {
        "id": "LOPFGGljpXdC"
      },
      "source": [
        "x_train = sequence.pad_sequences(x_train, maxlen=300)\n",
        "x_test = sequence.pad_sequences(x_test, maxlen=300)"
      ],
      "execution_count": null,
      "outputs": []
    },
    {
      "cell_type": "markdown",
      "metadata": {
        "id": "dcOFE9d8pNoy"
      },
      "source": [
        "### 4. step 01: 打造一個函數學習機"
      ]
    },
    {
      "cell_type": "code",
      "metadata": {
        "id": "mX4YE4hLpNoy"
      },
      "source": [
        "model = Sequential()"
      ],
      "execution_count": null,
      "outputs": []
    },
    {
      "cell_type": "markdown",
      "metadata": {
        "id": "ymzttGN2qMaK"
      },
      "source": [
        "# $\\color{orange}{\\text{修改後}}$\n",
        "* Embedding改成降為512維\n",
        "* LSTM改為256"
      ]
    },
    {
      "cell_type": "code",
      "metadata": {
        "id": "TUwlGEiDpNoy"
      },
      "source": [
        "#model.add(Embedding(10000, 128))\n",
        "model.add(Embedding(10000, 512))"
      ],
      "execution_count": null,
      "outputs": []
    },
    {
      "cell_type": "code",
      "metadata": {
        "id": "LiB5jwGvpNoz"
      },
      "source": [
        "#model.add(LSTM(128, dropout=0.2, recurrent_dropout=0.2))\n",
        "model.add(LSTM(256, dropout=0.2, recurrent_dropout=0.2))"
      ],
      "execution_count": null,
      "outputs": []
    },
    {
      "cell_type": "code",
      "metadata": {
        "id": "tzoa6o29pNo0"
      },
      "source": [
        "model.add(Dense(1, activation='sigmoid'))"
      ],
      "execution_count": null,
      "outputs": []
    },
    {
      "cell_type": "code",
      "metadata": {
        "id": "-rmCr3WcpNo0"
      },
      "source": [
        "model.compile(loss='binary_crossentropy',\n",
        "             optimizer='adam',\n",
        "             metrics=['accuracy'])"
      ],
      "execution_count": null,
      "outputs": []
    },
    {
      "cell_type": "code",
      "metadata": {
        "id": "vHh92sQxpNo0",
        "colab": {
          "base_uri": "https://localhost:8080/"
        },
        "outputId": "9220307f-1495-4a92-8d48-5d39053b66ae"
      },
      "source": [
        "model.summary()"
      ],
      "execution_count": null,
      "outputs": [
        {
          "output_type": "stream",
          "name": "stdout",
          "text": [
            "Model: \"sequential_2\"\n",
            "_________________________________________________________________\n",
            " Layer (type)                Output Shape              Param #   \n",
            "=================================================================\n",
            " embedding_2 (Embedding)     (None, None, 512)         5120000   \n",
            "                                                                 \n",
            " lstm_2 (LSTM)               (None, 256)               787456    \n",
            "                                                                 \n",
            " dense_3 (Dense)             (None, 1)                 257       \n",
            "                                                                 \n",
            "=================================================================\n",
            "Total params: 5,907,713\n",
            "Trainable params: 5,907,713\n",
            "Non-trainable params: 0\n",
            "_________________________________________________________________\n"
          ]
        }
      ]
    },
    {
      "cell_type": "markdown",
      "metadata": {
        "id": "rdhdubbOpNo1"
      },
      "source": [
        "### 5. step 02: 訓練"
      ]
    },
    {
      "cell_type": "markdown",
      "metadata": {
        "id": "BjH5_I8rrPnh"
      },
      "source": [
        "# $\\color{orange}{\\text{修改後}}$\n",
        "* batch_size改為256\n",
        "* epochs改為3"
      ]
    },
    {
      "cell_type": "code",
      "metadata": {
        "id": "YyODyLXspNo1",
        "colab": {
          "base_uri": "https://localhost:8080/"
        },
        "outputId": "b9f3f6f0-935f-4584-b36c-87c8e6826ded"
      },
      "source": [
        "'''\n",
        "model.fit(x_train, y_train, batch_size=32, epochs=10,\n",
        "         validation_data=(x_test, y_test))\n",
        "         '''\n",
        "model.fit(x_train, y_train, batch_size=256, epochs=3,\n",
        "         validation_data=(x_test, y_test))"
      ],
      "execution_count": null,
      "outputs": [
        {
          "output_type": "stream",
          "name": "stdout",
          "text": [
            "Epoch 1/3\n",
            "98/98 [==============================] - 1534s 16s/step - loss: 0.2053 - accuracy: 0.9219 - val_loss: 0.3074 - val_accuracy: 0.8740\n",
            "Epoch 2/3\n",
            "98/98 [==============================] - 1536s 16s/step - loss: 0.1415 - accuracy: 0.9501 - val_loss: 0.3379 - val_accuracy: 0.8681\n",
            "Epoch 3/3\n",
            "98/98 [==============================] - 1586s 16s/step - loss: 0.1299 - accuracy: 0.9526 - val_loss: 0.3763 - val_accuracy: 0.8467\n"
          ]
        },
        {
          "output_type": "execute_result",
          "data": {
            "text/plain": [
              "<keras.callbacks.History at 0x7fdbb73da7d0>"
            ]
          },
          "metadata": {},
          "execution_count": 58
        }
      ]
    },
    {
      "cell_type": "markdown",
      "metadata": {
        "id": "7UU_e8JepNo2"
      },
      "source": [
        "### 換個存檔方式\n",
        "\n",
        "這次是把 model 和訓練權重分開存, 使用上更有彈性。"
      ]
    },
    {
      "cell_type": "code",
      "metadata": {
        "id": "eWHf3pZZpNo2"
      },
      "source": [
        "model_json = model.to_json()\n",
        "open('imdb_model_architecture.json', 'w').write(model_json)\n",
        "model.save_weights('imdb_model_weights.h5')"
      ],
      "execution_count": null,
      "outputs": []
    }
  ]
}