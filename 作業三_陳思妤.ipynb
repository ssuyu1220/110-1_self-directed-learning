{
  "nbformat": 4,
  "nbformat_minor": 0,
  "metadata": {
    "kernelspec": {
      "display_name": "Python 3",
      "language": "python",
      "name": "python3"
    },
    "language_info": {
      "codemirror_mode": {
        "name": "ipython",
        "version": 3
      },
      "file_extension": ".py",
      "mimetype": "text/x-python",
      "name": "python",
      "nbconvert_exporter": "python",
      "pygments_lexer": "ipython3",
      "version": "3.7.3"
    },
    "colab": {
      "name": "作業三_陳思妤.ipynb",
      "provenance": []
    },
    "accelerator": "GPU"
  },
  "cells": [
    {
      "cell_type": "code",
      "metadata": {
        "id": "D20gkupqt2Jv"
      },
      "source": [
        "%matplotlib inline\n",
        "\n",
        "import numpy as np\n",
        "import matplotlib.pyplot as plt\n",
        "import pandas as pd"
      ],
      "execution_count": null,
      "outputs": []
    },
    {
      "cell_type": "code",
      "metadata": {
        "id": "J5eqLkZ1t2J5"
      },
      "source": [
        "from tensorflow.keras.utils import to_categorical\n",
        "from tensorflow.keras.models import Sequential\n",
        "from tensorflow.keras.layers import Dense\n",
        "from tensorflow.keras.optimizers import SGD\n",
        "\n",
        "from tensorflow.keras.optimizers import Adam"
      ],
      "execution_count": null,
      "outputs": []
    },
    {
      "cell_type": "markdown",
      "metadata": {
        "id": "zMxzXxzYt2J6"
      },
      "source": [
        "### 1. 讀入 MNSIT 數據集"
      ]
    },
    {
      "cell_type": "code",
      "metadata": {
        "id": "DkIvRfQht2KA"
      },
      "source": [
        "from tensorflow.keras.datasets import mnist"
      ],
      "execution_count": null,
      "outputs": []
    },
    {
      "cell_type": "code",
      "metadata": {
        "id": "dpCHPPKKt2KC"
      },
      "source": [
        "(x_train, y_train), (x_test, y_test) = mnist.load_data()"
      ],
      "execution_count": null,
      "outputs": []
    },
    {
      "cell_type": "markdown",
      "metadata": {
        "id": "Dl9yLfZWt2KD"
      },
      "source": [
        "#### 你也可以讀入 Fasion 版的 MNIST"
      ]
    },
    {
      "cell_type": "code",
      "metadata": {
        "id": "r4FrCZm1t2KE"
      },
      "source": [
        "# from tensorflow.keras.datasets import fashion_mnist\n",
        "# (x_train, y_train), (x_test, y_test) = fashion_mnist.load_data()"
      ],
      "execution_count": null,
      "outputs": []
    },
    {
      "cell_type": "markdown",
      "metadata": {
        "id": "gXOXQSubt2KG"
      },
      "source": [
        "### 2. 欣賞數據集內容 (非執行必要)"
      ]
    },
    {
      "cell_type": "code",
      "metadata": {
        "id": "DaiTF5alt2KH",
        "colab": {
          "base_uri": "https://localhost:8080/"
        },
        "outputId": "acb42f16-c35d-4d26-d00a-3b9159681bf7"
      },
      "source": [
        "len(x_train)"
      ],
      "execution_count": null,
      "outputs": [
        {
          "output_type": "execute_result",
          "data": {
            "text/plain": [
              "60000"
            ]
          },
          "metadata": {},
          "execution_count": 83
        }
      ]
    },
    {
      "cell_type": "code",
      "metadata": {
        "id": "x4FvMRoMt2KK",
        "colab": {
          "base_uri": "https://localhost:8080/"
        },
        "outputId": "f914e312-04af-4108-80ac-1bb2296b0793"
      },
      "source": [
        "len(x_test)"
      ],
      "execution_count": null,
      "outputs": [
        {
          "output_type": "execute_result",
          "data": {
            "text/plain": [
              "10000"
            ]
          },
          "metadata": {},
          "execution_count": 84
        }
      ]
    },
    {
      "cell_type": "code",
      "metadata": {
        "id": "7tgtB7jrt2KN"
      },
      "source": [
        "n = 9487"
      ],
      "execution_count": null,
      "outputs": []
    },
    {
      "cell_type": "code",
      "metadata": {
        "id": "kvXUwMcNt2KP",
        "colab": {
          "base_uri": "https://localhost:8080/"
        },
        "outputId": "bb662a8a-52fb-4943-e134-a83ae3e9d916"
      },
      "source": [
        "x_train[n]"
      ],
      "execution_count": null,
      "outputs": [
        {
          "output_type": "execute_result",
          "data": {
            "text/plain": [
              "array([[  0,   0,   0,   0,   0,   0,   0,   0,   0,   0,   0,   0,   0,\n",
              "          0,   0,   0,   0,   0,   0,   0,   0,   0,   0,   0,   0,   0,\n",
              "          0,   0],\n",
              "       [  0,   0,   0,   0,   0,   0,   0,   0,   0,   0,   0,   0,   0,\n",
              "          0,   0,   0,   0,   0,   0,   0,   0,   0,   0,   0,   0,   0,\n",
              "          0,   0],\n",
              "       [  0,   0,   0,   0,   0,   0,   0,   0,   0,   0,   0,   0,   0,\n",
              "          0,   0,   0,   0,   0,   0,   0,   0,   0,   0,   0,   0,   0,\n",
              "          0,   0],\n",
              "       [  0,   0,   0,   0,   0,   0,   0,   0,   0,   0,   0,   0,   0,\n",
              "          0,   0,   0,   0,   0,   0,   0,   0,   0,   0,   0,   0,   0,\n",
              "          0,   0],\n",
              "       [  0,   0,   0,   0,   0,   0,   0,   0,   0,   0,   0,   0, 240,\n",
              "        253, 165,   0,   0,   0,   0,   0,   0,   0,   0,   0,   0,   0,\n",
              "          0,   0],\n",
              "       [  0,   0,   0,   0,   0,   0,   0,   0,   0,   0,   0,  32, 241,\n",
              "        252, 252,   0,   0,   0,   0,   0,   0,   0,   0,   0,   0,   0,\n",
              "          0,   0],\n",
              "       [  0,   0,   0,   0,   0,   0,   0,   0,   0,   0,   2, 141, 252,\n",
              "        252, 252,  98,   0,   0,   0,   0,   0,   0,   0,   0,   0,   0,\n",
              "          0,   0],\n",
              "       [  0,   0,   0,   0,   0,   0,   0,   0,   0,   0,  30, 252, 252,\n",
              "        252, 252, 149,   0,   0,   0,   0,   0,   0,   0,   0,   0,   0,\n",
              "          0,   0],\n",
              "       [  0,   0,   0,   0,   0,   0,   0,   0,   0,   0,  21, 217, 252,\n",
              "        252, 252, 149,   0,   0,   0,   0,   0,   0,   0,   0,   0,   0,\n",
              "          0,   0],\n",
              "       [  0,   0,   0,   0,   0,   0,   0,   0,   0,   0,   0, 134, 252,\n",
              "        252, 252, 223,  31,   0,   0,   0,   0,   0,   0,   0,   0,   0,\n",
              "          0,   0],\n",
              "       [  0,   0,   0,   0,   0,   0,   0,   0,   0,   0,   0, 134, 252,\n",
              "        252, 252, 253,  44,   0,   0,   0,   0,   0,   0,   0,   0,   0,\n",
              "          0,   0],\n",
              "       [  0,   0,   0,   0,   0,   0,   0,   0,   0,   0,   0,   8, 239,\n",
              "        252, 252, 253,  44,   0,   0,   0,   0,   0,   0,   0,   0,   0,\n",
              "          0,   0],\n",
              "       [  0,   0,   0,   0,   0,   0,   0,   0,   0,   0,   0,   0, 238,\n",
              "        252, 252, 253,  44,   0,   0,   0,   0,   0,   0,   0,   0,   0,\n",
              "          0,   0],\n",
              "       [  0,   0,   0,   0,   0,   0,   0,   0,   0,   0,   0,   0, 238,\n",
              "        252, 252, 253,  44,   0,   0,   0,   0,   0,   0,   0,   0,   0,\n",
              "          0,   0],\n",
              "       [  0,   0,   0,   0,   0,   0,   0,   0,   0,   0,   0,   0, 178,\n",
              "        253, 253, 255, 106,   0,   0,   0,   0,   0,   0,   0,   0,   0,\n",
              "          0,   0],\n",
              "       [  0,   0,   0,   0,   0,   0,   0,   0,   0,   0,   0,   0,  90,\n",
              "        252, 252, 253, 206,  21,   0,   0,   0,   0,   0,   0,   0,   0,\n",
              "          0,   0],\n",
              "       [  0,   0,   0,   0,   0,   0,   0,   0,   0,   0,   0,   0,  90,\n",
              "        252, 252, 253, 252,  88,   0,   0,   0,   0,   0,   0,   0,   0,\n",
              "          0,   0],\n",
              "       [  0,   0,   0,   0,   0,   0,   0,   0,   0,   0,   0,   0,  90,\n",
              "        252, 252, 253, 252,  88,   0,   0,   0,   0,   0,   0,   0,   0,\n",
              "          0,   0],\n",
              "       [  0,   0,   0,   0,   0,   0,   0,   0,   0,   0,   0,   0,  63,\n",
              "        234, 252, 253, 252, 220,   0,   0,   0,   0,   0,   0,   0,   0,\n",
              "          0,   0],\n",
              "       [  0,   0,   0,   0,   0,   0,   0,   0,   0,   0,   0,   0,   0,\n",
              "        176, 252, 253, 252, 237,   0,   0,   0,   0,   0,   0,   0,   0,\n",
              "          0,   0],\n",
              "       [  0,   0,   0,   0,   0,   0,   0,   0,   0,   0,   0,   0,   0,\n",
              "         45, 252, 253, 252, 245,  71,   0,   0,   0,   0,   0,   0,   0,\n",
              "          0,   0],\n",
              "       [  0,   0,   0,   0,   0,   0,   0,   0,   0,   0,   0,   0,   0,\n",
              "         29, 215, 253, 252, 237,   8,   0,   0,   0,   0,   0,   0,   0,\n",
              "          0,   0],\n",
              "       [  0,   0,   0,   0,   0,   0,   0,   0,   0,   0,   0,   0,   0,\n",
              "          0, 149, 253, 252, 237,   0,   0,   0,   0,   0,   0,   0,   0,\n",
              "          0,   0],\n",
              "       [  0,   0,   0,   0,   0,   0,   0,   0,   0,   0,   0,   0,   0,\n",
              "          0,  61, 165, 252, 237,   0,   0,   0,   0,   0,   0,   0,   0,\n",
              "          0,   0],\n",
              "       [  0,   0,   0,   0,   0,   0,   0,   0,   0,   0,   0,   0,   0,\n",
              "          0,   0,   0,   0,   0,   0,   0,   0,   0,   0,   0,   0,   0,\n",
              "          0,   0],\n",
              "       [  0,   0,   0,   0,   0,   0,   0,   0,   0,   0,   0,   0,   0,\n",
              "          0,   0,   0,   0,   0,   0,   0,   0,   0,   0,   0,   0,   0,\n",
              "          0,   0],\n",
              "       [  0,   0,   0,   0,   0,   0,   0,   0,   0,   0,   0,   0,   0,\n",
              "          0,   0,   0,   0,   0,   0,   0,   0,   0,   0,   0,   0,   0,\n",
              "          0,   0],\n",
              "       [  0,   0,   0,   0,   0,   0,   0,   0,   0,   0,   0,   0,   0,\n",
              "          0,   0,   0,   0,   0,   0,   0,   0,   0,   0,   0,   0,   0,\n",
              "          0,   0]], dtype=uint8)"
            ]
          },
          "metadata": {},
          "execution_count": 86
        }
      ]
    },
    {
      "cell_type": "code",
      "metadata": {
        "id": "aJaVn5Ewt2KR",
        "colab": {
          "base_uri": "https://localhost:8080/"
        },
        "outputId": "1c14647e-bfab-43cb-9ce5-e6b9bce3533c"
      },
      "source": [
        "y_train[n]"
      ],
      "execution_count": null,
      "outputs": [
        {
          "output_type": "execute_result",
          "data": {
            "text/plain": [
              "1"
            ]
          },
          "metadata": {},
          "execution_count": 87
        }
      ]
    },
    {
      "cell_type": "code",
      "metadata": {
        "id": "ExoOE-igt2KT",
        "colab": {
          "base_uri": "https://localhost:8080/",
          "height": 282
        },
        "outputId": "47d13de3-d41d-43c6-f7b5-d216f7f49178"
      },
      "source": [
        "plt.imshow(x_train[n], cmap='Greys')"
      ],
      "execution_count": null,
      "outputs": [
        {
          "output_type": "execute_result",
          "data": {
            "text/plain": [
              "<matplotlib.image.AxesImage at 0x7fca1071d510>"
            ]
          },
          "metadata": {},
          "execution_count": 88
        },
        {
          "output_type": "display_data",
          "data": {
            "image/png": "[encoded data removed]",
            "text/plain": [
              "<Figure size 432x288 with 1 Axes>"
            ]
          },
          "metadata": {
            "needs_background": "light"
          }
        }
      ]
    },
    {
      "cell_type": "markdown",
      "metadata": {
        "id": "NmeVVoJat2KU"
      },
      "source": [
        "### 3. 資料整理"
      ]
    },
    {
      "cell_type": "markdown",
      "metadata": {
        "id": "zyytY-UFt2KU"
      },
      "source": [
        "先看個範例, 因為 `numpy` 「廣播」的特性, 我們對 `array` 中所有數字要同除以一個數可瞬間完成!"
      ]
    },
    {
      "cell_type": "code",
      "metadata": {
        "id": "jd0qOIYDt2KV"
      },
      "source": [
        "#將28*28的矩陣拉平成784維的向量\n",
        "x_train = x_train.reshape(60000, 784)/255\n",
        "x_test = x_test.reshape(10000, 784)/255"
      ],
      "execution_count": null,
      "outputs": []
    },
    {
      "cell_type": "code",
      "metadata": {
        "id": "2ixAL_kMt2KW"
      },
      "source": [
        "#one-hot encoding\n",
        "y_train = to_categorical(y_train, 10)\n",
        "y_test = to_categorical(y_test, 10)"
      ],
      "execution_count": null,
      "outputs": []
    },
    {
      "cell_type": "markdown",
      "metadata": {
        "id": "ARiTQT7zt2KW"
      },
      "source": [
        "### 4. step 1: 打造神經網路\n",
        "\n",
        "\n"
      ]
    },
    {
      "cell_type": "code",
      "metadata": {
        "id": "WJyGelWIt2KX"
      },
      "source": [
        "#打開一個標準、空白的神經網路\n",
        "#model = Sequential()"
      ],
      "execution_count": null,
      "outputs": []
    },
    {
      "cell_type": "code",
      "metadata": {
        "id": "lbUHOSVqt2KY"
      },
      "source": [
        "#加入一層神經網路, 100個神經元, 784維的輸入, 激發函數:reLU\n",
        "#model.add(Dense(100, input_dim=784, activation='relu'))"
      ],
      "execution_count": null,
      "outputs": []
    },
    {
      "cell_type": "code",
      "metadata": {
        "id": "l8w44uAmt2Kb"
      },
      "source": [
        "#model.add(Dense(100, activation='relu'))"
      ],
      "execution_count": null,
      "outputs": []
    },
    {
      "cell_type": "code",
      "metadata": {
        "id": "yDx3udoft2Kc"
      },
      "source": [
        "#輸出層\n",
        "#model.add(Dense(10, activation='softmax'))"
      ],
      "execution_count": null,
      "outputs": []
    },
    {
      "cell_type": "markdown",
      "metadata": {
        "id": "L0EMNxtIFZzi"
      },
      "source": [
        ">#修改後\n",
        "* 3層神經網路\n",
        "* 隱藏層每層神經元數目改為20\n"
      ]
    },
    {
      "cell_type": "code",
      "metadata": {
        "id": "1tTEyV97FapQ"
      },
      "source": [
        "model = Sequential()\n",
        "model.add(Dense(20, input_dim=784, activation='relu'))\n",
        "model.add(Dense(20, activation='relu'))\n",
        "model.add(Dense(20, activation='relu'))\n",
        "model.add(Dense(10, activation='softmax'))"
      ],
      "execution_count": null,
      "outputs": []
    },
    {
      "cell_type": "markdown",
      "metadata": {
        "id": "awKzIFN1t2Kd"
      },
      "source": [
        "#### 組裝我們的神經網路"
      ]
    },
    {
      "cell_type": "code",
      "metadata": {
        "id": "Mn_6MZOtt2Ke",
        "colab": {
          "base_uri": "https://localhost:8080/",
          "height": 35
        },
        "outputId": "779ab3a2-2468-42a6-aa10-ba7da2bd09de"
      },
      "source": [
        "#(Lloss_function:mse平均平方差)\n",
        "\"\"\"\n",
        "model.compile(loss='mse', optimizer=SGD(lr=0.087), \n",
        "              metrics=['accuracy'])\n",
        "              \"\"\""
      ],
      "execution_count": null,
      "outputs": [
        {
          "output_type": "execute_result",
          "data": {
            "application/vnd.google.colaboratory.intrinsic+json": {
              "type": "string"
            },
            "text/plain": [
              "\"\\nmodel.compile(loss='mse', optimizer=SGD(lr=0.087), \\n              metrics=['accuracy'])\\n              \""
            ]
          },
          "metadata": {},
          "execution_count": 96
        }
      ]
    },
    {
      "cell_type": "markdown",
      "metadata": {
        "id": "2pZ3m77PJa3o"
      },
      "source": [
        ">#修改後\n",
        "* loss function: categorical_crossentropy\n",
        "* optimizer: Adam\n",
        "* learning rate: 0.03"
      ]
    },
    {
      "cell_type": "code",
      "metadata": {
        "colab": {
          "base_uri": "https://localhost:8080/"
        },
        "id": "EFpm_wOkJrB8",
        "outputId": "509ee0bf-5f55-4a44-8909-d3f649be98ba"
      },
      "source": [
        "model.compile(loss='categorical_crossentropy', optimizer=Adam(lr=0.03), metrics=['accuracy'])"
      ],
      "execution_count": null,
      "outputs": [
        {
          "output_type": "stream",
          "name": "stderr",
          "text": [
            "/usr/local/lib/python3.7/dist-packages/keras/optimizer_v2/optimizer_v2.py:356: UserWarning: The `lr` argument is deprecated, use `learning_rate` instead.\n",
            "  \"The `lr` argument is deprecated, use `learning_rate` instead.\")\n"
          ]
        }
      ]
    },
    {
      "cell_type": "markdown",
      "metadata": {
        "id": "O_j4sQWlt2Kf"
      },
      "source": [
        "#### 欣賞我們的作品"
      ]
    },
    {
      "cell_type": "code",
      "metadata": {
        "id": "Ys96M6rTt2Kf",
        "colab": {
          "base_uri": "https://localhost:8080/"
        },
        "outputId": "d7a27065-5fef-4781-b29b-851be25e9327"
      },
      "source": [
        "model.summary()"
      ],
      "execution_count": null,
      "outputs": [
        {
          "output_type": "stream",
          "name": "stdout",
          "text": [
            "Model: \"sequential_2\"\n",
            "_________________________________________________________________\n",
            "Layer (type)                 Output Shape              Param #   \n",
            "=================================================================\n",
            "dense_8 (Dense)              (None, 20)                15700     \n",
            "_________________________________________________________________\n",
            "dense_9 (Dense)              (None, 20)                420       \n",
            "_________________________________________________________________\n",
            "dense_10 (Dense)             (None, 20)                420       \n",
            "_________________________________________________________________\n",
            "dense_11 (Dense)             (None, 10)                210       \n",
            "=================================================================\n",
            "Total params: 16,750\n",
            "Trainable params: 16,750\n",
            "Non-trainable params: 0\n",
            "_________________________________________________________________\n"
          ]
        }
      ]
    },
    {
      "cell_type": "code",
      "metadata": {
        "id": "II3NFE2GXp94"
      },
      "source": [
        ""
      ],
      "execution_count": null,
      "outputs": []
    },
    {
      "cell_type": "markdown",
      "metadata": {
        "id": "kvixoDEht2Kf"
      },
      "source": [
        "### 5. step 2: 訓練"
      ]
    },
    {
      "cell_type": "code",
      "metadata": {
        "scrolled": true,
        "id": "aaC6rPLVt2Kg"
      },
      "source": [
        "#model.fit(x_train, y_train, batch_size=100, epochs=20)"
      ],
      "execution_count": null,
      "outputs": []
    },
    {
      "cell_type": "markdown",
      "metadata": {
        "id": "4ytwXaNJO4Ui"
      },
      "source": [
        ">#修改後\n",
        "* batches_size: 256\n",
        "* epochs: 40"
      ]
    },
    {
      "cell_type": "code",
      "metadata": {
        "colab": {
          "base_uri": "https://localhost:8080/"
        },
        "id": "y_LLRM5ZRNWX",
        "outputId": "fee7231b-8cfb-4de6-8864-25cf1a3562af"
      },
      "source": [
        "model.fit(x_train, y_train, batch_size=256, epochs=40)"
      ],
      "execution_count": null,
      "outputs": [
        {
          "output_type": "stream",
          "name": "stdout",
          "text": [
            "Epoch 1/40\n",
            "235/235 [==============================] - 1s 4ms/step - loss: 0.5191 - accuracy: 0.8338\n",
            "Epoch 2/40\n",
            "235/235 [==============================] - 1s 4ms/step - loss: 0.2989 - accuracy: 0.9121\n",
            "Epoch 3/40\n",
            "235/235 [==============================] - 1s 4ms/step - loss: 0.2617 - accuracy: 0.9243\n",
            "Epoch 4/40\n",
            "235/235 [==============================] - 1s 4ms/step - loss: 0.2468 - accuracy: 0.9299\n",
            "Epoch 5/40\n",
            "235/235 [==============================] - 1s 4ms/step - loss: 0.2428 - accuracy: 0.9310\n",
            "Epoch 6/40\n",
            "235/235 [==============================] - 1s 4ms/step - loss: 0.2454 - accuracy: 0.9320\n",
            "Epoch 7/40\n",
            "235/235 [==============================] - 1s 4ms/step - loss: 0.2302 - accuracy: 0.9370\n",
            "Epoch 8/40\n",
            "235/235 [==============================] - 1s 4ms/step - loss: 0.2312 - accuracy: 0.9364\n",
            "Epoch 9/40\n",
            "235/235 [==============================] - 1s 4ms/step - loss: 0.2285 - accuracy: 0.9381\n",
            "Epoch 10/40\n",
            "235/235 [==============================] - 1s 4ms/step - loss: 0.2235 - accuracy: 0.9401\n",
            "Epoch 11/40\n",
            "235/235 [==============================] - 1s 4ms/step - loss: 0.2203 - accuracy: 0.9404\n",
            "Epoch 12/40\n",
            "235/235 [==============================] - 1s 4ms/step - loss: 0.2195 - accuracy: 0.9407\n",
            "Epoch 13/40\n",
            "235/235 [==============================] - 1s 4ms/step - loss: 0.2129 - accuracy: 0.9432\n",
            "Epoch 14/40\n",
            "235/235 [==============================] - 1s 4ms/step - loss: 0.2188 - accuracy: 0.9420\n",
            "Epoch 15/40\n",
            "235/235 [==============================] - 1s 4ms/step - loss: 0.2118 - accuracy: 0.9447\n",
            "Epoch 16/40\n",
            "235/235 [==============================] - 1s 4ms/step - loss: 0.2170 - accuracy: 0.9432\n",
            "Epoch 17/40\n",
            "235/235 [==============================] - 1s 4ms/step - loss: 0.2130 - accuracy: 0.9426\n",
            "Epoch 18/40\n",
            "235/235 [==============================] - 1s 4ms/step - loss: 0.2111 - accuracy: 0.9448\n",
            "Epoch 19/40\n",
            "235/235 [==============================] - 1s 4ms/step - loss: 0.2095 - accuracy: 0.9447\n",
            "Epoch 20/40\n",
            "235/235 [==============================] - 1s 4ms/step - loss: 0.2056 - accuracy: 0.9460\n",
            "Epoch 21/40\n",
            "235/235 [==============================] - 1s 4ms/step - loss: 0.2112 - accuracy: 0.9449\n",
            "Epoch 22/40\n",
            "235/235 [==============================] - 1s 4ms/step - loss: 0.2137 - accuracy: 0.9448\n",
            "Epoch 23/40\n",
            "235/235 [==============================] - 1s 4ms/step - loss: 0.2066 - accuracy: 0.9464\n",
            "Epoch 24/40\n",
            "235/235 [==============================] - 1s 4ms/step - loss: 0.2093 - accuracy: 0.9456\n",
            "Epoch 25/40\n",
            "235/235 [==============================] - 1s 4ms/step - loss: 0.2066 - accuracy: 0.9461\n",
            "Epoch 26/40\n",
            "235/235 [==============================] - 1s 4ms/step - loss: 0.2021 - accuracy: 0.9475\n",
            "Epoch 27/40\n",
            "235/235 [==============================] - 1s 4ms/step - loss: 0.1996 - accuracy: 0.9480\n",
            "Epoch 28/40\n",
            "235/235 [==============================] - 1s 4ms/step - loss: 0.2054 - accuracy: 0.9465\n",
            "Epoch 29/40\n",
            "235/235 [==============================] - 1s 4ms/step - loss: 0.2138 - accuracy: 0.9456\n",
            "Epoch 30/40\n",
            "235/235 [==============================] - 1s 4ms/step - loss: 0.1988 - accuracy: 0.9488\n",
            "Epoch 31/40\n",
            "235/235 [==============================] - 1s 4ms/step - loss: 0.2018 - accuracy: 0.9489\n",
            "Epoch 32/40\n",
            "235/235 [==============================] - 1s 4ms/step - loss: 0.2046 - accuracy: 0.9485\n",
            "Epoch 33/40\n",
            "235/235 [==============================] - 1s 4ms/step - loss: 0.2015 - accuracy: 0.9491\n",
            "Epoch 34/40\n",
            "235/235 [==============================] - 1s 4ms/step - loss: 0.2022 - accuracy: 0.9488\n",
            "Epoch 35/40\n",
            "235/235 [==============================] - 1s 4ms/step - loss: 0.2052 - accuracy: 0.9475\n",
            "Epoch 36/40\n",
            "235/235 [==============================] - 1s 4ms/step - loss: 0.2041 - accuracy: 0.9481\n",
            "Epoch 37/40\n",
            "235/235 [==============================] - 1s 4ms/step - loss: 0.2088 - accuracy: 0.9485\n",
            "Epoch 38/40\n",
            "235/235 [==============================] - 1s 4ms/step - loss: 0.1978 - accuracy: 0.9498\n",
            "Epoch 39/40\n",
            "235/235 [==============================] - 1s 4ms/step - loss: 0.2017 - accuracy: 0.9496\n",
            "Epoch 40/40\n",
            "235/235 [==============================] - 1s 4ms/step - loss: 0.2033 - accuracy: 0.9489\n"
          ]
        },
        {
          "output_type": "execute_result",
          "data": {
            "text/plain": [
              "<keras.callbacks.History at 0x7fca10689090>"
            ]
          },
          "metadata": {},
          "execution_count": 100
        }
      ]
    },
    {
      "cell_type": "markdown",
      "metadata": {
        "id": "KELNmtTMt2Kg"
      },
      "source": [
        "### 6. step 3: 預測 (testing)"
      ]
    },
    {
      "cell_type": "code",
      "metadata": {
        "id": "604ZDEWpt2Kh"
      },
      "source": [
        "y_predict = np.argmax(model.predict(x_test), axis=-1)"
      ],
      "execution_count": null,
      "outputs": []
    },
    {
      "cell_type": "code",
      "metadata": {
        "id": "_PIwems5t2Kh",
        "colab": {
          "base_uri": "https://localhost:8080/",
          "height": 282
        },
        "outputId": "37370408-d244-431d-c3a1-e0027244edba"
      },
      "source": [
        "n = 9999\n",
        "\n",
        "print('神經網路預測是:', y_predict[n])\n",
        "plt.imshow(x_test[n].reshape(28,28), cmap='Greys');"
      ],
      "execution_count": null,
      "outputs": [
        {
          "output_type": "stream",
          "name": "stdout",
          "text": [
            "神經網路預測是: 6\n"
          ]
        },
        {
          "output_type": "display_data",
          "data": {
            "image/png": "[encoded data removed]",
            "text/plain": [
              "<Figure size 432x288 with 1 Axes>"
            ]
          },
          "metadata": {
            "needs_background": "light"
          }
        }
      ]
    },
    {
      "cell_type": "markdown",
      "metadata": {
        "id": "Hm6nQFnLt2Ki"
      },
      "source": [
        "### 7. 儲存我們的 model"
      ]
    },
    {
      "cell_type": "code",
      "metadata": {
        "id": "w3ik4f8Kt2Ki"
      },
      "source": [
        "model.save(\"my_nn.h5\")"
      ],
      "execution_count": null,
      "outputs": []
    },
    {
      "cell_type": "code",
      "metadata": {
        "id": "1kMQDy48t2Kj"
      },
      "source": [
        ""
      ],
      "execution_count": null,
      "outputs": []
    }
  ]
}
